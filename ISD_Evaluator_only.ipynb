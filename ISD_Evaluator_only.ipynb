{
 "cells": [
  {
   "cell_type": "code",
   "execution_count": 2,
   "id": "8fb8f6f4",
   "metadata": {},
   "outputs": [],
   "source": [
    "import numpy as np\n",
    "import itertools\n",
    "from random import randint\n",
    "from IPython.display import clear_output\n",
    "from scipy.stats import entropy\n",
    "from scipy.special import comb\n",
    "from math import log, factorial, floor, ceil, isinf, isnan\n",
    "\n",
    "from LPFullBib import CenteredBinomialFullBib as binomialbib #syntax binomialbib[eta, level]\n",
    "from LPHalfBib import CenteredBinomialHalfBib as binomialbib_rep2\n",
    "#centered binomial distribution is called with etaSearch(eta)\n",
    "\n",
    "from May_Results import Maydist, Maybib\n",
    "from May_Results import ternarybib #syntax ternarybib[omega, level]\n",
    "#Ternary distribution with May's omega values is called with Maydist[i], 0<=i<=5\n",
    "\n",
    "from Uniformbibs import uniformoptibib as uniformbib #syntax uniformbib[eta, level]\n",
    "#Uniform distribution is called with uniSearch(eta)\n",
    "\n",
    "q=3329\n",
    "\n",
    "# distributions are denoted with arrays of the form [w_0,w_1,...,w_eta].\n",
    "# distributions need to be of length at least 5, filled up w/ zeroes if necessary.\n",
    "\n",
    "# parameter sets are stored as dictionaries (referred to as bibs). For example, To call upon\n",
    "# level 3 parameter epsilon_20^{(3)}, you call Bib(20, 3).\n",
    "# If Bib is a Rep-2 parameter set, Bib(30, j), Bib(31, j), Bib(32, j), Bib(33, j)\n",
    "# exist but are constantly set to 0.0 .\n",
    "\n",
    "# Each set of parameters can be called upon by utilizing their respective syntax.\n",
    "# The respective syntaxes differ, depending on the distribution.\n",
    "\n",
    "# To evaluate a certain distribution \"dist\" with parameter set \"bib\" for level \"j\", call\n",
    "# for runtimes: Evaluate_T(dist, j, bib)\n",
    "# for memory size: Evaluate_L(dist, j, bib)\n",
    "# the returned array gives you the calculated values PER LEVEL, i.e. \n",
    "# Evaluate_T(dist, j, bib)[0] returns the calculated runtime on level 0\n",
    "\n",
    "# For example, to verify our results for B(3), call\n",
    "# Evaluate_T(etaSearch(3),7,binomialbib[3, 7])"
   ]
  },
  {
   "cell_type": "code",
   "execution_count": 3,
   "id": "7b685b08",
   "metadata": {},
   "outputs": [],
   "source": [
    "def peta(eta,Permaway=[]):\n",
    "    # Probability for an randomly drawn entry to be in the permaway-set\n",
    "    sum=0\n",
    "    for i in Permaway:\n",
    "        if i==0:\n",
    "            sum=sum+comb(2*eta,eta,exact=True)\n",
    "        else:\n",
    "            sum=sum+2*comb(2*eta,eta+i,exact=True)\n",
    "    return sum/(2**(2*eta))\n",
    "\n",
    "def pbin(eta,i):\n",
    "    # centered binomial distribution probabilities\n",
    "    return comb(2*eta,eta+i)/(2**(2*eta))\n",
    "\n",
    "def quentropy(A,scale, incomplete=True):\n",
    "    # scaled entropy. This function automatically completes the input set to 1; should this lead to errors due to rounding, use incomplete=False. Is designed to scale with the scaling factor of the binomial coefficient.\n",
    "    if scale==0:\n",
    "        return 0\n",
    "    for i in range(len(A)):\n",
    "        A[i]=A[i]/scale\n",
    "    if incomplete:\n",
    "        A=A+[1-sum(A)]\n",
    "    return scale*entropy(A,base=2)\n",
    "\n",
    "def wentropy(A,scale, incomplete=True):\n",
    "    B=[A[0]]\n",
    "    for i in range(1,len(A)):\n",
    "        B+=[A[i]]\n",
    "        B+=[A[i]]\n",
    "    return quentropy(B,scale,incomplete=incomplete)"
   ]
  },
  {
   "cell_type": "code",
   "execution_count": 4,
   "id": "12bdc131",
   "metadata": {},
   "outputs": [],
   "source": [
    "def uniSearch(eta):\n",
    "    # creates a uniformly distributed search space\n",
    "    List=(eta+1)*[1/(2*eta+1)]\n",
    "    while len(List)<5:\n",
    "        List+=[0]\n",
    "    return List\n",
    "\n",
    "def etaSearch(eta):\n",
    "    w=max(5,eta+1)*[0]\n",
    "    c=max(5,eta+1)*[0]\n",
    "    c=2*sum(c)-c[0]\n",
    "    for i in range(0,eta+1):\n",
    "        w[i]=pbin(eta,i)\n",
    "    return w\n",
    "\n",
    "#Ternary Search spaces from May (Crypto '21)\n",
    "Maydist=[\n",
    "    [0.7,0.15,0,0,0],\n",
    "    [0.625,0.1875,0,0,0],\n",
    "    [0.559,0.2205,0,0,0],\n",
    "    [0.5,0.25,0,0,0],\n",
    "    [0.38,0.31,0,0,0],\n",
    "    [0.333,0.3335,0,0,0]\n",
    "]\n",
    "\n",
    "def levelbib(bib, level):\n",
    "    #returns all epsilon entries of a specific level\n",
    "    out={}\n",
    "    for i in [10,20,21,22,30,31,32,33]:\n",
    "        out[i]=bib[i,level]\n",
    "    return out"
   ]
  },
  {
   "cell_type": "code",
   "execution_count": 5,
   "id": "86531f4e",
   "metadata": {},
   "outputs": [],
   "source": [
    "def SearchSpace(w):\n",
    "    # given an input list w, this function returns the entropy of a search space where, for entries from the scale [-eta,eta] (for eta=len(w)+1), an entry i appears relatively w[i] many times\n",
    "    i=len(w)\n",
    "    v=[w[0]]\n",
    "    for i in range(1,i):\n",
    "        v=v+[w[i]]\n",
    "        v=v+[w[i]]\n",
    "    return entropy(v,base=2)\n",
    "\n",
    "def Representations(w,eps):\n",
    "    # this function calculates, given a previous level search space list w and an epsilon bib eps, the amount of representations from an entry of upper search spaces with entries from lower levels that are distributed according to the eps bib\n",
    "    rep0=quentropy([eps[10],eps[10],eps[20],eps[20],eps[30],eps[30]],w[0])\n",
    "    rep1=quentropy([eps[21],eps[21],eps[31],eps[31],(w[1]-2*eps[21]-2*eps[31])/2,(w[1]-2*eps[21]-2*eps[31])/2],w[1],incomplete=False)\n",
    "    rep2=quentropy([eps[22],eps[22],eps[32],eps[32]],w[2])\n",
    "    rep3=quentropy([eps[33],eps[33],(w[3]-2*eps[33])/2,(w[3]-2*eps[33])/2],w[3],incomplete=False)\n",
    "    return (2*rep3+2*rep2+2*rep1+rep0)\n",
    "\n",
    "# the cw functions calculate, according to the previous search space and an epsilon bib eps, the search space for the current level\n",
    "def cw1(pw, ce):\n",
    "    return (pw[1]+2*pw[2]+pw[3]-2*ce[33]-2*ce[32]-2*ce[31]+2*ce[10]-4*ce[22])/2\n",
    "\n",
    "def cw2(pw, ce):\n",
    "    return (pw[3]+2*pw[4]+2*ce[20]+2*ce[21]+2*ce[22]+2*ce[31]-2*ce[33])/2\n",
    "\n",
    "def cw3(pw, ce):\n",
    "    return (2*ce[33]+2*ce[32]+2*ce[31]+2*ce[30])/2\n",
    "\n",
    "def cw(pw, ce):\n",
    "    c1=cw1(pw, ce)\n",
    "    c2=cw2(pw, ce)\n",
    "    c3=cw3(pw, ce)\n",
    "    c0=1-2*(c1+c2+c3)\n",
    "    return [c0,c1,c2,c3,0]"
   ]
  },
  {
   "cell_type": "code",
   "execution_count": 6,
   "id": "8ee2e521",
   "metadata": {},
   "outputs": [],
   "source": [
    "#Evaluate_T and Evaluate_L both take an initial distribution as well as an epsilon dictionary bib and calculate each level's respective Time (or space) to create any search list of said level.\n",
    "\n",
    "def Evaluate(dist, level, bib, retT=True, retL=True):\n",
    "    T=[0]\n",
    "    L=[0]\n",
    "    w=[dist]\n",
    "    S=[SearchSpace(w[0])]\n",
    "    R=[1]\n",
    "    for j in range(1,level):\n",
    "        lbib=levelbib(bib,j)\n",
    "        w+=[cw(w[j-1],lbib)]\n",
    "        T+=[0]\n",
    "        S+=[SearchSpace(w[j])]\n",
    "        R+=[Representations(w[j-1],lbib)]\n",
    "        L+=[S[j]-R[j]]\n",
    "        if j==level-1:\n",
    "            R=R+[0]\n",
    "            L=L+[S[j]/2]\n",
    "            T=T+[S[j]/2]\n",
    "            if isnan(R[j]) or isinf(R[j]):\n",
    "                T[j]=-R[j]\n",
    "            elif isnan(R[level]) or isinf(R[level]):\n",
    "                T[j]=R[level]\n",
    "            else:\n",
    "                T[j]=2*L[level]-R[j]\n",
    "        if j>1:\n",
    "            if isnan(R[j]) or isinf(R[j]):\n",
    "                T[j-1]=-R[j]\n",
    "            elif isnan(R[j-1]) or isinf(R[j-1]):\n",
    "                T[j-1]=-R[j-1]\n",
    "            else:\n",
    "                T[j-1]=2*L[j]-(R[j-1]-R[j])\n",
    "        elif isnan(R[1]) or isinf(R[1]):\n",
    "            T[0]=-R[1]\n",
    "        else:\n",
    "            T[0]=max(0,2*L[1]-1)\n",
    "    for j in range(level):\n",
    "        T[j]=max(T[j],L[j+1])\n",
    "    T[level]=0\n",
    "    if retT and retL:\n",
    "        return [T,L]\n",
    "    elif retT:\n",
    "        return T\n",
    "    elif retL:\n",
    "        return L\n",
    "    return []\n",
    "\n",
    "def Evaluate_T(dist, level, bib):\n",
    "    return Evaluate(dist, level, bib, retT=True, retL=False)\n",
    "\n",
    "def Evaluate_L(dist, level, bib):\n",
    "    return Evaluate(dist, level, bib, retT=False, retL=True)\n",
    "\n",
    "def Evaluate_bib(bib):\n",
    "    for [eta,level] in bib:\n",
    "        [T,L]=Evaluate(etaPermSearch(eta,range(4,eta+1)),level,bib[eta,level])\n",
    "        print(\"------------- eta = \" + str(eta) + \" , level = \" + str(level) + \" -------------\")\n",
    "        print(\"runtime is \" + str(max(T)))\n",
    "        print(\"memory is \" + str(max(L)))\n",
    "        print()"
   ]
  },
  {
   "cell_type": "code",
   "execution_count": null,
   "id": "f6785c37",
   "metadata": {},
   "outputs": [],
   "source": [
    "#Evaluate for T(0.3)\n",
    "Evaluate_T(Maydist[0],4,ternarybib[0.3, 4])"
   ]
  },
  {
   "cell_type": "code",
   "execution_count": null,
   "id": "ba766977",
   "metadata": {},
   "outputs": [],
   "source": [
    "#Evaluate for T(0.375)\n",
    "Evaluate_T(Maydist[1],5,ternarybib[0.375, 5])"
   ]
  },
  {
   "cell_type": "code",
   "execution_count": null,
   "id": "c19bf0eb",
   "metadata": {},
   "outputs": [],
   "source": [
    "#Evaluate for T(0.441)\n",
    "Evaluate_T(Maydist[2],6,ternarybib[0.441, 6])"
   ]
  },
  {
   "cell_type": "code",
   "execution_count": null,
   "id": "d648c78d",
   "metadata": {},
   "outputs": [],
   "source": [
    "#Evaluate for T(0.5)\n",
    "Evaluate_T(Maydist[3],5,ternarybib[0.5, 5])"
   ]
  },
  {
   "cell_type": "code",
   "execution_count": null,
   "id": "dc0ab024",
   "metadata": {},
   "outputs": [],
   "source": [
    "#Evaluate for T(0.62)\n",
    "Evaluate_T(Maydist[4],6,ternarybib[0.62, 6])"
   ]
  },
  {
   "cell_type": "code",
   "execution_count": null,
   "id": "0277b1c3",
   "metadata": {},
   "outputs": [],
   "source": [
    "#Evaluate for T(0.667)\n",
    "Evaluate_T(Maydist[5],6,ternarybib[0.667, 6])"
   ]
  },
  {
   "cell_type": "code",
   "execution_count": null,
   "id": "eb746c7b",
   "metadata": {},
   "outputs": [],
   "source": [
    "#Evaluate for U(1) (Same as T(0.5))\n",
    "Evaluate_T(Maydist[3],5,ternarybib[0.5, 5])"
   ]
  },
  {
   "cell_type": "code",
   "execution_count": null,
   "id": "4c54d86d",
   "metadata": {},
   "outputs": [],
   "source": [
    "#Evaluate for B(2)\n",
    "Evaluate_T(etaSearch(2),7,binomialbib[2, 7])"
   ]
  },
  {
   "cell_type": "code",
   "execution_count": null,
   "id": "8d37b21e",
   "metadata": {},
   "outputs": [],
   "source": [
    "#Evaluate for B(3)\n",
    "Evaluate_T(etaSearch(3),7,binomialbib[3, 7])"
   ]
  },
  {
   "cell_type": "code",
   "execution_count": null,
   "id": "c8c7e5c4",
   "metadata": {},
   "outputs": [],
   "source": [
    "#Evaluate for B(1) (~Same as T(0.667))\n",
    "Evaluate_T(Maydist[5],6,ternarybib[0.667, 6])"
   ]
  },
  {
   "cell_type": "code",
   "execution_count": null,
   "id": "3df36511",
   "metadata": {},
   "outputs": [],
   "source": [
    "#Evaluate for U(2)\n",
    "Evaluate_T(uniSearch(2),8,uniformbib[2, 8])"
   ]
  },
  {
   "cell_type": "code",
   "execution_count": null,
   "id": "0a075994",
   "metadata": {},
   "outputs": [],
   "source": [
    "#Evaluate for U(3)\n",
    "Evaluate_T(uniSearch(3),6,uniformbib[3, 6])"
   ]
  },
  {
   "cell_type": "code",
   "execution_count": null,
   "id": "3bea0759",
   "metadata": {},
   "outputs": [],
   "source": []
  }
 ],
 "metadata": {
  "kernelspec": {
   "display_name": "Python 3 (ipykernel)",
   "language": "python",
   "name": "python3"
  },
  "language_info": {
   "codemirror_mode": {
    "name": "ipython",
    "version": 3
   },
   "file_extension": ".py",
   "mimetype": "text/x-python",
   "name": "python",
   "nbconvert_exporter": "python",
   "pygments_lexer": "ipython3",
   "version": "3.9.7"
  }
 },
 "nbformat": 4,
 "nbformat_minor": 5
}
